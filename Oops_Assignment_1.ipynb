{
 "cells": [
  {
   "cell_type": "code",
   "execution_count": 1,
   "id": "bd5e6243-5e4c-4eb4-a716-3e4cb36429f7",
   "metadata": {},
   "outputs": [
    {
     "data": {
      "text/plain": [
       "' Q1-Create a vehicle class with an init method having instance variables as name_of_vehicle, max_speed\\nand average_of_vehicle. '"
      ]
     },
     "execution_count": 1,
     "metadata": {},
     "output_type": "execute_result"
    }
   ],
   "source": [
    "\"\"\" Q1-Create a vehicle class with an init method having instance variables as name_of_vehicle, max_speed\n",
    "and average_of_vehicle. \"\"\""
   ]
  },
  {
   "cell_type": "code",
   "execution_count": 2,
   "id": "60c24813-6366-47c1-8b12-ab55b259ada7",
   "metadata": {},
   "outputs": [],
   "source": [
    "class vehicle :\n",
    "    def __init__(self,name_of_vehicle,max_speed,average_of_vehicle):\n",
    "        self.name_of_vehicle=name_of_vehicle\n",
    "        self.max_speed=max_speed\n",
    "        self.average_of_vehicle=average_of_vehicle"
   ]
  },
  {
   "cell_type": "code",
   "execution_count": 3,
   "id": "851aa15c-7c5d-440b-a232-1d2bd2d3f043",
   "metadata": {},
   "outputs": [],
   "source": [
    "def vehicle_detail(self) :\n",
    "    return self.name_of_vehicle,self.max_speed,self.average_of_vehicle"
   ]
  },
  {
   "cell_type": "code",
   "execution_count": 4,
   "id": "da5fa9f0-0242-4767-a8e1-b37a4625fbd7",
   "metadata": {},
   "outputs": [
    {
     "ename": "TypeError",
     "evalue": "vehicle.__init__() missing 3 required positional arguments: 'name_of_vehicle', 'max_speed', and 'average_of_vehicle'",
     "output_type": "error",
     "traceback": [
      "\u001b[0;31m---------------------------------------------------------------------------\u001b[0m",
      "\u001b[0;31mTypeError\u001b[0m                                 Traceback (most recent call last)",
      "Cell \u001b[0;32mIn[4], line 1\u001b[0m\n\u001b[0;32m----> 1\u001b[0m car\u001b[38;5;241m=\u001b[39m\u001b[43mvehicle\u001b[49m\u001b[43m(\u001b[49m\u001b[43m)\u001b[49m\n",
      "\u001b[0;31mTypeError\u001b[0m: vehicle.__init__() missing 3 required positional arguments: 'name_of_vehicle', 'max_speed', and 'average_of_vehicle'"
     ]
    }
   ],
   "source": [
    "car=vehicle()"
   ]
  },
  {
   "cell_type": "code",
   "execution_count": 5,
   "id": "34e932cf-33b0-495e-a82d-90f67e596b1f",
   "metadata": {},
   "outputs": [],
   "source": [
    "car=vehicle(\"MAHINDRA\",300,120)"
   ]
  },
  {
   "cell_type": "code",
   "execution_count": 6,
   "id": "db9521b0-cbd1-4011-bd4e-11b21d5b729d",
   "metadata": {},
   "outputs": [
    {
     "data": {
      "text/plain": [
       "120"
      ]
     },
     "execution_count": 6,
     "metadata": {},
     "output_type": "execute_result"
    }
   ],
   "source": [
    "car.average_of_vehicle"
   ]
  },
  {
   "cell_type": "code",
   "execution_count": 7,
   "id": "895b9b04-269c-4f8c-bde0-761871e8be79",
   "metadata": {},
   "outputs": [
    {
     "data": {
      "text/plain": [
       "300"
      ]
     },
     "execution_count": 7,
     "metadata": {},
     "output_type": "execute_result"
    }
   ],
   "source": [
    "car.max_speed"
   ]
  },
  {
   "cell_type": "code",
   "execution_count": 8,
   "id": "ee304267-7b16-4589-b5bc-570f694f87a6",
   "metadata": {},
   "outputs": [
    {
     "data": {
      "text/plain": [
       "'MAHINDRA'"
      ]
     },
     "execution_count": 8,
     "metadata": {},
     "output_type": "execute_result"
    }
   ],
   "source": [
    "car.name_of_vehicle"
   ]
  },
  {
   "cell_type": "code",
   "execution_count": 9,
   "id": "9cf95efb-cddb-4f3a-897c-32e295bf0066",
   "metadata": {},
   "outputs": [
    {
     "data": {
      "text/plain": [
       "' Q2. Create a child class car from the vehicle class created in Que 1, which will inherit the vehicle class.\\nCreate a method named seating_capacity which takes capacity as an argument and returns the name of\\nthe vehicle and its seating capacity. '"
      ]
     },
     "execution_count": 9,
     "metadata": {},
     "output_type": "execute_result"
    }
   ],
   "source": [
    "\"\"\" Q2. Create a child class car from the vehicle class created in Que 1, which will inherit the vehicle class.\n",
    "Create a method named seating_capacity which takes capacity as an argument and returns the name of\n",
    "the vehicle and its seating capacity. \"\"\""
   ]
  },
  {
   "cell_type": "code",
   "execution_count": 31,
   "id": "9348d3d9-6c5a-42dd-b7a3-a81df9830f23",
   "metadata": {},
   "outputs": [],
   "source": [
    "class vehicle :\n",
    "     def __init__(self,name_of_vehicle,max_speed,average_of_vehicle):\n",
    "        self.name_of_vehicle=name_of_vehicle\n",
    "        self.max_speed=max_speed\n",
    "        self.average_of_vehicle=average_of_vehicle\n",
    "        \n",
    "    "
   ]
  },
  {
   "cell_type": "code",
   "execution_count": 32,
   "id": "b7c3363a-8136-4e28-88fb-e3ef4578261f",
   "metadata": {},
   "outputs": [],
   "source": [
    "class child_car( vehicle):\n",
    "    \n",
    "    \n",
    "         \n",
    "    def name_vehicle(self):\n",
    "        vehicle_name=str(input(\"Enter the vehicle name : \" ))\n",
    "                               \n",
    "                               \n",
    "    def seating_capacity(self):\n",
    "        capacity= int(input(\" Enter the seating_capicty : \"))\n",
    "        \n",
    "   "
   ]
  },
  {
   "cell_type": "code",
   "execution_count": 25,
   "id": "c921f4ac-22a2-4264-be59-694e2bc307ce",
   "metadata": {},
   "outputs": [],
   "source": [
    "v=child_car(\"Mahindra\",250,120)"
   ]
  },
  {
   "cell_type": "code",
   "execution_count": 27,
   "id": "4ea7fe78-cb5d-488b-b55a-c574319cc50c",
   "metadata": {},
   "outputs": [
    {
     "name": "stdin",
     "output_type": "stream",
     "text": [
      " Enter the seating_capicty :  5\n"
     ]
    }
   ],
   "source": [
    "v.seating_capacity()"
   ]
  },
  {
   "cell_type": "code",
   "execution_count": 29,
   "id": "c627a756-8cbd-439d-8515-56032640b303",
   "metadata": {},
   "outputs": [
    {
     "name": "stdin",
     "output_type": "stream",
     "text": [
      "Enter the vehicle name :  Mahindra\n"
     ]
    }
   ],
   "source": [
    "v.name_vehicle()"
   ]
  },
  {
   "cell_type": "code",
   "execution_count": 30,
   "id": "eb8a5b5b-07a1-4ee6-aaf1-2ff3c8162de4",
   "metadata": {},
   "outputs": [
    {
     "data": {
      "text/plain": [
       "' Q3. What is multiple inheritance? Write a python code to demonstrate multiple inheritance. '"
      ]
     },
     "execution_count": 30,
     "metadata": {},
     "output_type": "execute_result"
    }
   ],
   "source": [
    "\"\"\" Q3. What is multiple inheritance? Write a python code to demonstrate multiple inheritance. \"\"\""
   ]
  },
  {
   "cell_type": "code",
   "execution_count": 39,
   "id": "29d5a763-d690-4854-bd91-f93cb5ba6bf1",
   "metadata": {},
   "outputs": [],
   "source": [
    "multiple_inheritance =\" In multipleinheritance class_1 and class_2 both are inherit by the class_3 means all the property of class+1 and class_2 are inherit by the class_3\" "
   ]
  },
  {
   "cell_type": "code",
   "execution_count": 40,
   "id": "ba5faf33-9c0c-409a-be75-82fc17896d46",
   "metadata": {},
   "outputs": [
    {
     "data": {
      "text/plain": [
       "' In multipleinheritance class_1 and class_2 both are inherit by the class_3 means all the property of class+1 and class_2 are inherit by the class_3'"
      ]
     },
     "execution_count": 40,
     "metadata": {},
     "output_type": "execute_result"
    }
   ],
   "source": [
    "multiple_inheritance "
   ]
  },
  {
   "cell_type": "code",
   "execution_count": 41,
   "id": "09bd829c-465e-47a3-b3d1-c3c97361be7e",
   "metadata": {},
   "outputs": [],
   "source": [
    "class class_1 :\n",
    "    def inherit_1(self):\n",
    "        return \" this is our first class_1 which inherit by class_3\""
   ]
  },
  {
   "cell_type": "code",
   "execution_count": 42,
   "id": "50300691-9d2f-49b7-b1ea-fa4051468d47",
   "metadata": {},
   "outputs": [],
   "source": [
    "class class_2 :\n",
    "    def inherit_2(self):\n",
    "        return \" this our second class_2 which inherit by class_3 \""
   ]
  },
  {
   "cell_type": "code",
   "execution_count": 43,
   "id": "f416e549-1aad-43b2-812d-a0f5e06bb014",
   "metadata": {},
   "outputs": [],
   "source": [
    "class class_3(class_1, class_2 ):\n",
    "    def inhert_all(self):\n",
    "        return \" class_3 inherit all both class\""
   ]
  },
  {
   "cell_type": "code",
   "execution_count": 44,
   "id": "c06b7c73-c4be-4520-a67d-6b336553b949",
   "metadata": {},
   "outputs": [],
   "source": [
    "class_obj=class_3()"
   ]
  },
  {
   "cell_type": "code",
   "execution_count": 46,
   "id": "fb2ebd67-ed38-42b5-9754-ad971f2a30d3",
   "metadata": {},
   "outputs": [
    {
     "data": {
      "text/plain": [
       "' class_3 inherit all both class'"
      ]
     },
     "execution_count": 46,
     "metadata": {},
     "output_type": "execute_result"
    }
   ],
   "source": [
    "class_obj.inhert_all()"
   ]
  },
  {
   "cell_type": "code",
   "execution_count": 47,
   "id": "a9951b21-e743-4fe0-9878-2007a9896153",
   "metadata": {},
   "outputs": [
    {
     "data": {
      "text/plain": [
       "' this is our first class_1 '"
      ]
     },
     "execution_count": 47,
     "metadata": {},
     "output_type": "execute_result"
    }
   ],
   "source": [
    "class_obj.inherit_1()"
   ]
  },
  {
   "cell_type": "code",
   "execution_count": 48,
   "id": "4cb5a629-6738-4dc2-9a00-49e4c2068af7",
   "metadata": {},
   "outputs": [
    {
     "data": {
      "text/plain": [
       "' this our second class_2 which inherit by class_3 '"
      ]
     },
     "execution_count": 48,
     "metadata": {},
     "output_type": "execute_result"
    }
   ],
   "source": [
    "class_obj.inherit_2()"
   ]
  },
  {
   "cell_type": "code",
   "execution_count": 49,
   "id": "8409d12f-3f20-412e-8a1e-6d5d207e4121",
   "metadata": {},
   "outputs": [
    {
     "data": {
      "text/plain": [
       "' Q4. What are getter and setter in python? Create a class and create a getter and a setter method in this\\nclass. '"
      ]
     },
     "execution_count": 49,
     "metadata": {},
     "output_type": "execute_result"
    }
   ],
   "source": [
    "\"\"\" Q4. What are getter and setter in python? Create a class and create a getter and a setter method in this\n",
    "class. \"\"\""
   ]
  },
  {
   "cell_type": "code",
   "execution_count": 51,
   "id": "8c4674de-85e2-4cad-8d96-6ccfc57e94a9",
   "metadata": {},
   "outputs": [],
   "source": [
    "get_set =\" setter are ued to set a  value into a variable or in a method and getter are used to get a value that we are set in any variable or in any method \""
   ]
  },
  {
   "cell_type": "code",
   "execution_count": 52,
   "id": "74700747-3e44-45fe-ba3a-a4b3c27e8630",
   "metadata": {},
   "outputs": [
    {
     "data": {
      "text/plain": [
       "' setter are ued to set a  value into a variable or in a method and getter are used to get a value that we are set in any variable or in any method '"
      ]
     },
     "execution_count": 52,
     "metadata": {},
     "output_type": "execute_result"
    }
   ],
   "source": [
    "get_set"
   ]
  },
  {
   "cell_type": "code",
   "execution_count": 86,
   "id": "c4dcab92-0b85-45b6-98f8-0fc67500ed85",
   "metadata": {},
   "outputs": [],
   "source": [
    "class car :\n",
    "    def __init__(self, year,speed):\n",
    "        self.year=year\n",
    "        self.speed=speed\n",
    "        \n",
    "    def set_speed(self,speed):\n",
    "        self.speed=0 if speed < 0 else speed \n",
    "    \n",
    "    def get_speed(self):\n",
    "        return self.speed"
   ]
  },
  {
   "cell_type": "code",
   "execution_count": 87,
   "id": "fd060c68-e3da-4335-beb9-692f0cbe7a8b",
   "metadata": {},
   "outputs": [],
   "source": [
    "car_obj=car(2023,25)"
   ]
  },
  {
   "cell_type": "code",
   "execution_count": 88,
   "id": "1b0e4d7d-c45d-4120-a1ac-5db5eba8c47d",
   "metadata": {},
   "outputs": [
    {
     "data": {
      "text/plain": [
       "25"
      ]
     },
     "execution_count": 88,
     "metadata": {},
     "output_type": "execute_result"
    }
   ],
   "source": [
    "car_obj.speed"
   ]
  },
  {
   "cell_type": "code",
   "execution_count": 89,
   "id": "b89e1a30-1075-4e57-a6b5-ec4f5cc69984",
   "metadata": {},
   "outputs": [
    {
     "data": {
      "text/plain": [
       "2023"
      ]
     },
     "execution_count": 89,
     "metadata": {},
     "output_type": "execute_result"
    }
   ],
   "source": [
    "car_obj.year"
   ]
  },
  {
   "cell_type": "code",
   "execution_count": 90,
   "id": "4ad0f2c5-9872-4726-97cf-863138941900",
   "metadata": {},
   "outputs": [
    {
     "ename": "TypeError",
     "evalue": "car.set_speed() missing 1 required positional argument: 'speed'",
     "output_type": "error",
     "traceback": [
      "\u001b[0;31m---------------------------------------------------------------------------\u001b[0m",
      "\u001b[0;31mTypeError\u001b[0m                                 Traceback (most recent call last)",
      "Cell \u001b[0;32mIn[90], line 1\u001b[0m\n\u001b[0;32m----> 1\u001b[0m \u001b[43mcar\u001b[49m\u001b[38;5;241;43m.\u001b[39;49m\u001b[43mset_speed\u001b[49m\u001b[43m(\u001b[49m\u001b[38;5;241;43m45\u001b[39;49m\u001b[43m)\u001b[49m\n",
      "\u001b[0;31mTypeError\u001b[0m: car.set_speed() missing 1 required positional argument: 'speed'"
     ]
    }
   ],
   "source": [
    "car.set_speed(45)"
   ]
  },
  {
   "cell_type": "code",
   "execution_count": 73,
   "id": "328019a3-ac94-4cd1-88b8-cfe793cdb699",
   "metadata": {},
   "outputs": [],
   "source": [
    "class car():\n",
    "    def __init__(self,year,make,model,speed):\n",
    "        self.__year=year\n",
    "        self.__make=make\n",
    "        self.__model=model\n",
    "        self.__speed=0\n",
    "        \n",
    "    def set_speed(self,speed):\n",
    "        self.__speed=0 if speed < 0 else speed\n",
    "    \n",
    "    def get_speed(self):\n",
    "        return self.__speed"
   ]
  },
  {
   "cell_type": "code",
   "execution_count": 75,
   "id": "59aee7c1-2682-42f2-bf97-b2d1f70e64fc",
   "metadata": {},
   "outputs": [],
   "source": [
    "car_obj=car(2023,\"mahindra\",\"suv\",25)"
   ]
  },
  {
   "cell_type": "code",
   "execution_count": 77,
   "id": "02c48664-a444-45fc-baf4-5c3094c31715",
   "metadata": {},
   "outputs": [
    {
     "data": {
      "text/plain": [
       "0"
      ]
     },
     "execution_count": 77,
     "metadata": {},
     "output_type": "execute_result"
    }
   ],
   "source": [
    "car_obj._car__speed"
   ]
  },
  {
   "cell_type": "code",
   "execution_count": 78,
   "id": "c2e719f2-5b72-48bc-80fb-bcb4adf2b2f1",
   "metadata": {},
   "outputs": [],
   "source": [
    "car_obj.set_speed(100)"
   ]
  },
  {
   "cell_type": "code",
   "execution_count": 79,
   "id": "164edbbb-92c4-477a-a22d-2d0d815ed0f2",
   "metadata": {},
   "outputs": [
    {
     "data": {
      "text/plain": [
       "100"
      ]
     },
     "execution_count": 79,
     "metadata": {},
     "output_type": "execute_result"
    }
   ],
   "source": [
    "car_obj.get_speed()"
   ]
  },
  {
   "cell_type": "code",
   "execution_count": 91,
   "id": "1522e09d-4f12-4c1a-8bfb-950423643a25",
   "metadata": {},
   "outputs": [
    {
     "data": {
      "text/plain": [
       "'Q5.What is method overriding in python? Write a python code to demonstrate method overriding.'"
      ]
     },
     "execution_count": 91,
     "metadata": {},
     "output_type": "execute_result"
    }
   ],
   "source": [
    "\"\"\"Q5.What is method overriding in python? Write a python code to demonstrate method overriding.\"\"\""
   ]
  },
  {
   "cell_type": "code",
   "execution_count": 93,
   "id": "f58e4f78-e067-4fa1-af1e-e7e0eb51ad56",
   "metadata": {},
   "outputs": [],
   "source": [
    "overriding =\"Method overriding in Python occurs when a subclass defines a method that is already defined in its superclass with the same name and signature. This allows the subclass to provide a specialized implementation of the method, tailored to its specific needs, while still using the same method name as the superclass.\""
   ]
  },
  {
   "cell_type": "code",
   "execution_count": 94,
   "id": "f1c5099b-b25b-4cfd-b76a-90ae9611527b",
   "metadata": {},
   "outputs": [
    {
     "data": {
      "text/plain": [
       "'Method overriding in Python occurs when a subclass defines a method that is already defined in its superclass with the same name and signature. This allows the subclass to provide a specialized implementation of the method, tailored to its specific needs, while still using the same method name as the superclass.'"
      ]
     },
     "execution_count": 94,
     "metadata": {},
     "output_type": "execute_result"
    }
   ],
   "source": [
    "overriding"
   ]
  },
  {
   "cell_type": "code",
   "execution_count": 97,
   "id": "1a63fcdb-57bf-4640-b692-38da8c22e325",
   "metadata": {},
   "outputs": [],
   "source": [
    "class animal:\n",
    "    def speak_animal(self):\n",
    "        return\"animal speak\"\n",
    "class dog(animal):\n",
    "    def speak_dog(self):\n",
    "        return\"dog speak as bark\"\n",
    "class cat(animal):\n",
    "    def speak_cat(self):\n",
    "        return \" cat speak as mew\""
   ]
  },
  {
   "cell_type": "code",
   "execution_count": 98,
   "id": "25bd507a-718f-43d8-bd82-4a323bd8e300",
   "metadata": {},
   "outputs": [],
   "source": [
    "animal_obj=animal()"
   ]
  },
  {
   "cell_type": "code",
   "execution_count": 100,
   "id": "029d855c-4fba-4cdc-9cde-a5a3fab40833",
   "metadata": {},
   "outputs": [
    {
     "data": {
      "text/plain": [
       "'animal speak'"
      ]
     },
     "execution_count": 100,
     "metadata": {},
     "output_type": "execute_result"
    }
   ],
   "source": [
    "animal_obj.speak_animal()"
   ]
  },
  {
   "cell_type": "code",
   "execution_count": 101,
   "id": "d9536fbb-7b07-4f7c-9e44-35b92b57413e",
   "metadata": {},
   "outputs": [
    {
     "ename": "AttributeError",
     "evalue": "'animal' object has no attribute 'speak_dog'",
     "output_type": "error",
     "traceback": [
      "\u001b[0;31m---------------------------------------------------------------------------\u001b[0m",
      "\u001b[0;31mAttributeError\u001b[0m                            Traceback (most recent call last)",
      "Cell \u001b[0;32mIn[101], line 1\u001b[0m\n\u001b[0;32m----> 1\u001b[0m \u001b[43manimal_obj\u001b[49m\u001b[38;5;241;43m.\u001b[39;49m\u001b[43mspeak_dog\u001b[49m()\n",
      "\u001b[0;31mAttributeError\u001b[0m: 'animal' object has no attribute 'speak_dog'"
     ]
    }
   ],
   "source": [
    "animal_obj.speak_dog()"
   ]
  },
  {
   "cell_type": "code",
   "execution_count": null,
   "id": "adc70fdd-774d-4adc-926e-a9bc7bfbf03a",
   "metadata": {},
   "outputs": [],
   "source": []
  }
 ],
 "metadata": {
  "kernelspec": {
   "display_name": "Python 3 (ipykernel)",
   "language": "python",
   "name": "python3"
  },
  "language_info": {
   "codemirror_mode": {
    "name": "ipython",
    "version": 3
   },
   "file_extension": ".py",
   "mimetype": "text/x-python",
   "name": "python",
   "nbconvert_exporter": "python",
   "pygments_lexer": "ipython3",
   "version": "3.10.8"
  }
 },
 "nbformat": 4,
 "nbformat_minor": 5
}
